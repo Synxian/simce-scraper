{
 "cells": [
  {
   "cell_type": "code",
   "execution_count": 310,
   "metadata": {},
   "outputs": [],
   "source": [
    "import pandas as pd\n",
    "import os\n",
    "files = os.listdir('fix_gse')\n",
    "data = []\n",
    "for i in files:\n",
    "    data.append(pd.read_csv(f'fix_gse/{i}'))\n",
    "df = pd.concat(data)\n",
    "df.to_csv('datos2023Final.csv', index=False)\n"
   ]
  },
  {
   "cell_type": "code",
   "execution_count": 367,
   "metadata": {},
   "outputs": [
    {
     "name": "stdout",
     "output_type": "stream",
     "text": [
      "Index(['Autoestima académica y motivación escolar',\n",
      "       'Clima de convivencia escolar', 'Participación y formación ciudadana',\n",
      "       'Hábitos de vida saludables', 'Simce Lenguaje',\n",
      "       'Len Nivel Insuficiente', 'Len Nivel Elemental', 'Len Nivel Adecuado',\n",
      "       'Simce Matemática', 'Mat Nivel Insuficiente', 'Mat Nivel Elemental',\n",
      "       'Mat Nivel Adecuado', 'Autopercepción y autovaloración académica',\n",
      "       'Motivación escolar', 'Sentido de pertenencia', 'Vida democrática',\n",
      "       'Hábitos de autocuidado', 'Hábitos alimenticios',\n",
      "       'Hábitos de vida activa', 'Ambiente de respeto', 'Ambiente organizado',\n",
      "       'Ambiente seguro', 'Participación'],\n",
      "      dtype='object')\n"
     ]
    }
   ],
   "source": [
    "metrics_cols = df.columns[11:]\n",
    "print(metrics_cols)"
   ]
  },
  {
   "cell_type": "code",
   "execution_count": 368,
   "metadata": {},
   "outputs": [],
   "source": [
    "df = pd.read_csv('datos2023Final.csv')\n",
    "\n",
    "df[metrics_cols[5]] = pd.to_numeric(df[metrics_cols[5]].astype(str).replace('nan', '').apply(lambda x: x.strip('«')), errors='raise')\n",
    "df[metrics_cols[6]] = pd.to_numeric(df[metrics_cols[6]].astype(str).replace('nan', '').apply(lambda x: x.strip('«*')), errors='raise')\n",
    "df[metrics_cols[7]] = pd.to_numeric(df[metrics_cols[7]].astype(str).replace('nan', '').apply(lambda x: x.strip('«')), errors='raise')\n",
    "df[metrics_cols[8]] = df[metrics_cols[8]].astype(float)\n",
    "df[metrics_cols[9]] = pd.to_numeric(df[metrics_cols[9]].apply(lambda x: x.strip('«')), errors='raise')\n",
    "df[metrics_cols[10]] = pd.to_numeric(df[metrics_cols[10]].astype(str).replace('nan', '').apply(lambda x: x.strip('«*')), errors='raise')\n",
    "df[metrics_cols[11]] = pd.to_numeric(df[metrics_cols[11]].astype(str).replace('nan', '').apply(lambda x: x.strip('«*')), errors='raise')\n",
    "df[metrics_cols[12]] = pd.to_numeric(df[metrics_cols[12]].astype(str).replace('nan', '').apply(lambda x: x.strip('*-')), errors='raise')\n",
    "df[metrics_cols[13]] = pd.to_numeric(df[metrics_cols[13]].astype(str).replace('nan', '').apply(lambda x: x.strip('*-')), errors='raise')\n",
    "df[metrics_cols[14]] = pd.to_numeric(df[metrics_cols[14]].astype(str).replace('nan', '').apply(lambda x: x.strip('*-')), errors='raise')\n",
    "df[metrics_cols[15]] = pd.to_numeric(df[metrics_cols[15]].astype(str).replace('nan', '').apply(lambda x: x.strip('*-')), errors='raise')\n",
    "df[metrics_cols[16]] = pd.to_numeric(df[metrics_cols[16]].astype(str).replace('nan', '').apply(lambda x: x.strip('*-')), errors='raise')\n",
    "df[metrics_cols[17]] = pd.to_numeric(df[metrics_cols[17]].astype(str).replace('nan', '').apply(lambda x: x.strip('*-')), errors='raise')\n",
    "df[metrics_cols[18]] = pd.to_numeric(df[metrics_cols[18]].astype(str).replace('nan', '').apply(lambda x: x.strip('*-')), errors='raise')\n",
    "df[metrics_cols[19]] = pd.to_numeric(df[metrics_cols[19]].astype(str).replace('nan', '').apply(lambda x: x.strip('*-')), errors='raise')\n",
    "df[metrics_cols[20]] = pd.to_numeric(df[metrics_cols[20]].astype(str).replace('nan', '').apply(lambda x: x.strip('*-')), errors='raise')\n",
    "df[metrics_cols[21]] = pd.to_numeric(df[metrics_cols[21]].astype(str).replace('nan', '').apply(lambda x: x.strip('*-')), errors='raise')\n",
    "df[metrics_cols[22]] = pd.to_numeric(df[metrics_cols[22]].astype(str).replace('nan', '').apply(lambda x: x.strip('*-')), errors='raise')"
   ]
  },
  {
   "cell_type": "code",
   "execution_count": 371,
   "metadata": {},
   "outputs": [],
   "source": [
    "to_normalize = metrics_cols[:5].to_list() + [metrics_cols[8]] + metrics_cols[12:].to_list()\n",
    "# df.groupby('GSE')[to_normalize].transform(lambda x: (x - x.mean()) / x.std())\n",
    "z_norm = df.set_index('RBD').groupby('GSE')[to_normalize].transform(lambda x: (x - x.mean()) / x.std())\n",
    "z_norm.columns = [f'z-{x}' for x in z_norm.columns]\n",
    "min_max = df.set_index('RBD').groupby('GSE')[to_normalize].transform(lambda x: (x - x.min()) / (x.max() - x.min()))\n",
    "min_max.columns = [f'min-max-{x}' for x in min_max.columns]\n",
    "new_df = pd.concat([df.set_index('RBD'), z_norm, min_max], axis=1)\n",
    "new_df.reset_index().to_csv('datos2023_with_norm.csv', index=False)"
   ]
  }
 ],
 "metadata": {
  "kernelspec": {
   "display_name": "Python 3",
   "language": "python",
   "name": "python3"
  },
  "language_info": {
   "codemirror_mode": {
    "name": "ipython",
    "version": 3
   },
   "file_extension": ".py",
   "mimetype": "text/x-python",
   "name": "python",
   "nbconvert_exporter": "python",
   "pygments_lexer": "ipython3",
   "version": "3.11.4"
  }
 },
 "nbformat": 4,
 "nbformat_minor": 2
}
